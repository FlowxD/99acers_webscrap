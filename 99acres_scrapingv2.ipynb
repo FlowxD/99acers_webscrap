{
 "cells": [
  {
   "cell_type": "code",
   "execution_count": 190,
   "metadata": {
    "collapsed": true
   },
   "outputs": [],
   "source": [
    "from bs4 import BeautifulSoup\n",
    "import requests\n",
    "import urllib.request \n",
    "import os\n",
    "import argparse\n",
    "import numpy as np\n",
    "import pandas as pd\n",
    "import time\n",
    "from selenium import webdriver\n",
    "from selenium.webdriver.common.keys import Keys\n",
    "#from fake_useragent import UserAgent"
   ]
  },
  {
   "cell_type": "code",
   "execution_count": 191,
   "metadata": {
    "collapsed": true
   },
   "outputs": [],
   "source": [
    "import re\n",
    "\n",
    "df = pd.DataFrame()"
   ]
  },
  {
   "cell_type": "code",
   "execution_count": 192,
   "metadata": {
    "collapsed": true
   },
   "outputs": [],
   "source": [
    "session = requests.Session()\n",
    "chrome_path = r\"C:\\Users\\Apurva Joshi\\Desktop\\99acers_webscrap-2\\chromedriver.exe\"\n"
   ]
  },
  {
   "cell_type": "code",
   "execution_count": 193,
   "metadata": {},
   "outputs": [
    {
     "data": {
      "text/plain": [
       "'python-requests/2.18.4'"
      ]
     },
     "execution_count": 193,
     "metadata": {},
     "output_type": "execute_result"
    }
   ],
   "source": [
    "session.headers['User-Agent']"
   ]
  },
  {
   "cell_type": "code",
   "execution_count": 194,
   "metadata": {},
   "outputs": [],
   "source": [
    "my_headers={\"User-Agent\":\"Mozilla/5.0 (Windows NT 10.0; Win64; x64) AppleWebKit/537.36 (KHTML, like Gecko) Chrome/77.0.3865.90 Safari/537.36\",\n",
    "            \"Accept\":\"text/html,application/xhtml+xml,application/xml;q=0.9,image/webp,image/apng,*/*;q=0.8,application/signed-exchange;v=b3\"}\n"
   ]
  },
  {
   "cell_type": "code",
   "execution_count": 195,
   "metadata": {},
   "outputs": [],
   "source": [
    "#url = 'https://www.99acres.com/property-in-mumbai-ffid'\n",
    "url = 'https://www.99acres.com/property-in-mumbai-ffid-page-1'\n",
    "response = session.get(url, headers=my_headers)\n",
    "driver = webdriver.Chrome(chrome_path)\n",
    "driver.get(url)\n",
    "pag = driver.find_element_by_tag_name(\"html\")\n",
    "pag.send_keys(Keys.END)"
   ]
  },
  {
   "cell_type": "code",
   "execution_count": 196,
   "metadata": {},
   "outputs": [
    {
     "data": {
      "text/plain": [
       "'<!doctype html>\\n<html>\\n<head>\\n    \\n<link rel=\"icon\" type=\"image/png\" href=\"https://www.99acres.com/favicon.png\" />\\n\\n<meta http-equiv=\"Content-Type\" content=\"text/html; charset=utf-8\"/>\\n<meta http-equiv=\"content-language\" content=\"en\"/>\\n<link rel=\"dns-prefetch\" href=\"https://static.99acres.com/\"><link rel=\"dns-prefetch\" href=\"//stats.g.doubleclick.net\"><link rel=\"dns-prefetch\" href=\"http://b.scorecardresearch.com\"><link rel=\"dns-prefetch\" href=\"http://static.ieplads.com/\"><link rel=\"dns-prefetch\"'"
      ]
     },
     "execution_count": 196,
     "metadata": {},
     "output_type": "execute_result"
    }
   ],
   "source": [
    "response.text[:500]\n"
   ]
  },
  {
   "cell_type": "code",
   "execution_count": 197,
   "metadata": {
    "scrolled": true
   },
   "outputs": [
    {
     "data": {
      "text/plain": [
       "bs4.BeautifulSoup"
      ]
     },
     "execution_count": 197,
     "metadata": {},
     "output_type": "execute_result"
    }
   ],
   "source": [
    "html_soup = BeautifulSoup(response.text, 'html.parser')\n",
    "type(html_soup)"
   ]
  },
  {
   "cell_type": "code",
   "execution_count": 198,
   "metadata": {},
   "outputs": [
    {
     "data": {
      "text/plain": [
       "<div id=\"SRP-listing\">\n",
       "<ul class=\"content c\">\n",
       "<li id=\"zedobanner1\"></li>\n",
       "<li class=\"textc\" id=\"zedobanner2\"></li>\n",
       "<li id=\"zedobanner3\"></li>\n",
       "</ul>\n",
       "</div>"
      ]
     },
     "execution_count": 198,
     "metadata": {},
     "output_type": "execute_result"
    }
   ],
   "source": [
    "html_soup.body.div"
   ]
  },
  {
   "cell_type": "code",
   "execution_count": 199,
   "metadata": {},
   "outputs": [
    {
     "name": "stdout",
     "output_type": "stream",
     "text": [
      "<class 'bs4.element.ResultSet'>\n",
      "1167\n"
     ]
    }
   ],
   "source": [
    "info_containers = html_soup.find_all('div')\n",
    "print(type(info_containers))\n",
    "print(len(info_containers))"
   ]
  },
  {
   "cell_type": "code",
   "execution_count": 200,
   "metadata": {
    "collapsed": true
   },
   "outputs": [],
   "source": [
    "conts = html_soup.body.findAll(\"div\",{\"class\":\"srpNw_tble\"})"
   ]
  },
  {
   "cell_type": "code",
   "execution_count": 201,
   "metadata": {},
   "outputs": [
    {
     "data": {
      "text/plain": [
       "30"
      ]
     },
     "execution_count": 201,
     "metadata": {},
     "output_type": "execute_result"
    }
   ],
   "source": [
    "len(conts)"
   ]
  },
  {
   "cell_type": "code",
   "execution_count": 202,
   "metadata": {
    "collapsed": true,
    "scrolled": true
   },
   "outputs": [],
   "source": [
    "#conts[0]"
   ]
  },
  {
   "cell_type": "code",
   "execution_count": 203,
   "metadata": {},
   "outputs": [
    {
     "data": {
      "text/plain": [
       "bs4.element.Tag"
      ]
     },
     "execution_count": 203,
     "metadata": {},
     "output_type": "execute_result"
    }
   ],
   "source": [
    "cont = conts[0]\n",
    "x = conts[1]\n",
    "type(cont)"
   ]
  },
  {
   "cell_type": "code",
   "execution_count": 204,
   "metadata": {},
   "outputs": [
    {
     "data": {
      "text/plain": [
       "<span title=\"₹ 61 Lac 1 BHK Residential Apartment in Kandivali (West)\">1 BHK Residential Apartment <b>in Kandivali (West)</b></span>"
      ]
     },
     "execution_count": 204,
     "metadata": {},
     "output_type": "execute_result"
    }
   ],
   "source": [
    "cont.th.h2.a.span"
   ]
  },
  {
   "cell_type": "code",
   "execution_count": 205,
   "metadata": {},
   "outputs": [
    {
     "data": {
      "text/plain": [
       "'₹ 61 Lac 1 BHK Residential Apartment in Kandivali (West)'"
      ]
     },
     "execution_count": 205,
     "metadata": {},
     "output_type": "execute_result"
    }
   ],
   "source": [
    "cont.th.h2.a.span[\"title\"]\n"
   ]
  },
  {
   "cell_type": "code",
   "execution_count": 206,
   "metadata": {},
   "outputs": [
    {
     "data": {
      "text/plain": [
       "'₹ 1.35 Crore 2 BHK Residential Apartment in Pokhran-2'"
      ]
     },
     "execution_count": 206,
     "metadata": {},
     "output_type": "execute_result"
    }
   ],
   "source": [
    "x.th.h2.a.span[\"title\"]"
   ]
  },
  {
   "cell_type": "code",
   "execution_count": 207,
   "metadata": {},
   "outputs": [
    {
     "data": {
      "text/plain": [
       "bs4.element.ResultSet"
      ]
     },
     "execution_count": 207,
     "metadata": {},
     "output_type": "execute_result"
    }
   ],
   "source": [
    "date_by_type=html_soup.body.findAll(\"span\",{\"class\":\"srpNw_dlrNme\"})\n",
    "len(date_by_type)\n",
    "dbt = date_by_type[0]\n",
    "x = date_by_type[1]\n",
    "type(date_by_type)"
   ]
  },
  {
   "cell_type": "code",
   "execution_count": 208,
   "metadata": {},
   "outputs": [
    {
     "name": "stdout",
     "output_type": "stream",
     "text": [
      "Ruparel Realty\n"
     ]
    }
   ],
   "source": [
    "type_builder=\"\"\n",
    "date_by_type[0].text.split(' by')[0]\n",
    "by=date_by_type[0].a.text\n",
    "print(by)\n",
    "str1 = date_by_type[1].text\n",
    "if \"(Dealer)\" in str1:\n",
    "    type_builder = \"Dealer\"\n",
    "if \"(Builder)\" in str1:\n",
    "    type_builder = \"Builder\"\n",
    "if \"(Owner)\" in str1:\n",
    "    type_builder = \"Owner\""
   ]
  },
  {
   "cell_type": "code",
   "execution_count": 209,
   "metadata": {
    "collapsed": true
   },
   "outputs": [],
   "source": [
    "#date_by_type"
   ]
  },
  {
   "cell_type": "code",
   "execution_count": 210,
   "metadata": {},
   "outputs": [
    {
     "name": "stdout",
     "output_type": "stream",
     "text": [
      "['Builder', 'Dealer', 'Builder', 'Owner', 'Builder', 'Builder', 'Owner', 'Builder', 'Owner', 'Builder', 'Builder', 'Builder', 'Builder', 'Builder', 'Builder', 'Builder', 'Builder', 'Owner', 'Builder', 'Builder', 'Builder', 'Owner', '', 'Dealer', 'Dealer', 'Builder', 'Builder', 'Owner', 'Builder', 'Owner']\n",
      "['Ruparel Realty', 'Ideal Properties', 'Vardhan Developers', 'individual dealer', 'Mahindra Lifespaces Developers Ltd', 'Shapoorji Pallonji', 'individual dealer', 'West Pioneer Properties India Pvt. Ltd', 'individual dealer', 'Godrej Properties Limited', 'Shapoorji Pallonji', 'Shapoorji Pallonji', 'West Pioneer Properties India Pvt. Ltd', 'Amardeep Constructions', 'L & T Realty', 'Mahindra Lifespaces Developers Ltd', 'Dhuleva Group', 'individual dealer', 'Dhuleva Group', 'Dhuleva Group', 'Godrej Properties Limited', 'individual dealer', 'individual dealer', 'Siddhi estate agency', 'Alibag Properties', 'Prajapati Developers', 'Thakural Constructions', 'individual dealer', 'Puneet Urban Spaces', 'individual dealer']\n",
      "['Posted on Sep 03, 2019', 'Posted on Sep 27, 2019', 'Posted on Sep 30, 2019', 'Posted on Sep 30, 2019', 'Posted on Sep 30, 2019', 'Posted on Sep 30, 2019', 'Posted on Sep 30, 2019', 'Posted on Oct 01, 2019', 'Posted on Oct 02, 2019', 'Posted on Sep 27, 2019', 'Posted on Sep 24, 2019', 'Posted on Sep 24, 2019', 'Posted on Oct 01, 2019', 'Posted on Sep 09, 2019', 'Posted on Sep 18, 2019', 'Posted on Sep 30, 2019', 'Posted on Sep 30, 2019', 'Posted on Oct 02, 2019', 'Posted on Sep 30, 2019', 'Posted on Sep 30, 2019', 'Posted on Sep 27, 2019', 'Posted on Sep 30, 2019', 'Posted on Sep 16, 2019.', 'Posted on Sep 17, 2019', 'Posted on Jul 23, 2019', 'Posted on Sep 03, 2019', 'Posted on Aug 23, 2019', 'Posted on Oct 01, 2019', 'Posted on Sep 09, 2019', 'Posted on Sep 30, 2019']\n"
     ]
    }
   ],
   "source": [
    "date=[]\n",
    "by1=[]\n",
    "tyee_builder1=[]\n",
    "\n",
    "for dbt1 in date_by_type:\n",
    "    date.append(dbt1.text.split(' by')[0])\n",
    "    try:\n",
    "        by1.append(dbt1.a.text)\n",
    "    \n",
    "    # write some code \n",
    "    # that might throw exception\n",
    "    except AttributeError:\n",
    "        by1.append(\"individual dealer\")\n",
    "        # Exception handler, alert the user\n",
    "dbr1=0\n",
    "for dbt1 in date_by_type:\n",
    "    str1 = dbt1.text\n",
    "    if \"(Dealer)\" in str1:\n",
    "        type_builder = \"Dealer\"\n",
    "    elif \"(Builder)\" in str1:\n",
    "        type_builder = \"Builder\"\n",
    "    elif \"(Owner)\" in str1:\n",
    "        type_builder = \"Owner\"\n",
    "    else:\n",
    "        type_builder = \"\"\n",
    "    tyee_builder1.append(type_builder)\n",
    "  \n",
    "print(tyee_builder1)\n",
    "print(by1)\n",
    "print(date)"
   ]
  },
  {
   "cell_type": "code",
   "execution_count": 211,
   "metadata": {
    "collapsed": true
   },
   "outputs": [],
   "source": [
    "#date1[1].text.split(' by')[0]"
   ]
  },
  {
   "cell_type": "code",
   "execution_count": 212,
   "metadata": {},
   "outputs": [
    {
     "name": "stdout",
     "output_type": "stream",
     "text": [
      " ₹61 L\n"
     ]
    }
   ],
   "source": [
    "price1 = cont.findAll(\"span\",{\"class\":\"srpNw_price\"})\n",
    "price1=price1[0].text\n",
    "print(price1)\n",
    "#bath_bal.append(bath_bal1[0].text.strip())"
   ]
  },
  {
   "cell_type": "code",
   "execution_count": 213,
   "metadata": {
    "collapsed": true
   },
   "outputs": [],
   "source": [
    "title=[]\n",
    "sq_ft=[]\n",
    "area=[]\n",
    "bhk1=[]\n",
    "possess=[]\n",
    "per_sq=[]\n",
    "bath_bal=[]\n",
    "price=[]\n",
    "\n",
    "for cont in conts:\n",
    "    title.append(cont.th.h2.a.span[\"title\"])\n",
    "    area.append(cont.table.tbody.tr.b.text)\n",
    "    sq = cont.findAll(\"td\",{\"class\":\"_auto_areaValue\"})\n",
    "    sq_ft.append(sq[0].b.text)\n",
    "    bhk = cont.findAll(\"td\",{\"class\":\"_auto_bedroom\"})\n",
    "    bhk1.append(bhk[0].b.text)\n",
    "    poss = cont.findAll(\"td\",{\"class\":\"_auto_possesionLabel\"})\n",
    "    possess.append(poss[0].text.strip())\n",
    "    per_sq1 = cont.findAll(\"td\",{\"class\":\"_auto_ppu_area\"})\n",
    "    per_sq.append(per_sq1[0].text)\n",
    "    bath_bal1 = cont.findAll(\"td\",{\"class\":\"_auto_bath_balc_roadText\"})\n",
    "    bath_bal.append(bath_bal1[0].text.strip())\n",
    "    price1 = cont.findAll(\"span\",{\"class\":\"srpNw_price\"})\n",
    "    price.append(price1[0].text)\n",
    "\n"
   ]
  },
  {
   "cell_type": "code",
   "execution_count": 214,
   "metadata": {
    "collapsed": true
   },
   "outputs": [],
   "source": [
    "df['Title'] = title\n",
    "df['Area'] = area\n",
    "df['Sq_ft'] = sq_ft\n",
    "df['BHK'] = bhk1\n",
    "df['POSSESS'] = possess\n",
    "df['PER_SQ_PRICE'] = per_sq\n",
    "df['BATH_BAL'] = bath_bal\n",
    "df['PIRICE'] = price\n",
    "df['DATE'] = date\n",
    "df['BY']= by1\n",
    "df['TYPE_POSTER'] = tyee_builder1"
   ]
  },
  {
   "cell_type": "code",
   "execution_count": 215,
   "metadata": {},
   "outputs": [
    {
     "name": "stdout",
     "output_type": "stream",
     "text": [
      "                                                Title                   Area  \\\n",
      "0   ₹ 61 Lac 1 BHK Residential Apartment in Kandiv...    in Kandivali (West)   \n",
      "1   ₹ 1.35 Crore 2 BHK Residential Apartment in Po...           in Pokhran-2   \n",
      "2   ₹ 69.99 Lac 1 BHK Residential Apartment in Che...             in Chembur   \n",
      "3      ₹ 62 Lac 2 BHK Residential Apartment in Taloja              in Taloja   \n",
      "4   ₹ 2.12 Crore to 2.99 Crore 2 BHK Residential A...      in Andheri (East)   \n",
      "5   ₹ 1.22 Crore 2 BHK Residential Apartment in Th...          in Thane West   \n",
      "6   ₹ 90 Lac 3 BHK Residential Apartment in Dombiv...     in Dombivli (East)   \n",
      "7   ₹ 1.3 Crore 3 BHK Residential Apartment in Kal...       in Kalyan (East)   \n",
      "8   ₹ 1.46 Crore 2 BHK Residential Apartment in Se...   in Sector-8B Belapur   \n",
      "9   ₹Price on Request 3 BHK Residential Apartment ...    in Kandivali (East)   \n",
      "10  ₹ 2.14 Crore 2 BHK Residential Apartment in Ch...          in Chandivali   \n",
      "11  ₹ 2.53 Crore 3 BHK Residential Apartment in Ch...          in Chandivali   \n",
      "12  ₹ 85 Lac 2 BHK Residential Apartment in Kalyan...       in Kalyan (East)   \n",
      "13  ₹ 2.34 Crore to 2.71 Crore 3 BHK Residential A...       in Mulund (East)   \n",
      "14  ₹ 9.89 Crore 4 BHK Residential Apartment in Parel               in Parel   \n",
      "15  ₹ 1.45 Crore to 1.68 Crore 1 BHK Residential A...      in Andheri (East)   \n",
      "16  ₹ 3.24 Crore 3 BHK Residential Apartment in Parel               in Parel   \n",
      "17  ₹ 60 Lac 2 BHK Residential Apartment in Kher S...        in Kher Section   \n",
      "18  ₹ 2.16 Crore Onwards 2 BHK Residential Apartme...               in Parel   \n",
      "19  ₹ 1.58 Crore 1 BHK Residential Apartment in Parel               in Parel   \n",
      "20  ₹Price on Request 2 BHK Residential Apartment ...    in Kandivali (East)   \n",
      "21  ₹ 59 Lac 1 BHK Residential Apartment in Thane ...          in Thane West   \n",
      "22  ₹ 2.21 Crore 2 BHK Residential Apartment in Ma...        in Malad (East)   \n",
      "23  ₹ 1.65 Crore 2 BHK Residential Apartment in Mu...       in Mulund (West)   \n",
      "24  ₹ 2.7 Crore 3 BHK Residential Apartment in Hir...  in Hiranandani Estate   \n",
      "25  ₹ 1.4 Crore 3 BHK Residential Apartment in Panvel              in Panvel   \n",
      "26  ₹ 4.5 Crore 3 BHK Residential Apartment in Pra...      in Prabhat Colony   \n",
      "27  ₹ 1.25 Crore 2 BHK Residential Apartment in Pa...              in Panvel   \n",
      "28  ₹ 1.17 Crore to 1.31 Crore 2 BHK Residential A...        in Kurla (East)   \n",
      "29  ₹ 1.95 Crore 2 BHK Residential Apartment in go...       in goregaon east   \n",
      "\n",
      "             Sq_ft     BHK                  POSSESS  PER_SQ_PRICE  \\\n",
      "0              322  1 BHK   Possession in Dec  2021  18944/sq.ft.   \n",
      "1             1000  2 BHK             Ready To Move  13500/sq.ft.   \n",
      "2           320.44  1 BHK   Possession in Dec  2021  21843/sq.ft.   \n",
      "3             1080  2 BHK             Ready To Move   5740/sq.ft.   \n",
      "4        667 - 942  2 BHK   Possession in Mar  2024  31729/sq.ft.   \n",
      "5              600  2 BHK                New Launch  20333/sq.ft.   \n",
      "6              940  3 BHK             Ready To Move   9574/sq.ft.   \n",
      "7             1044  3 BHK   Possession in Dec  2023                 \n",
      "8              900  2 BHK             Ready To Move  16222/sq.ft.   \n",
      "9              860  3 BHK                New Launch                 \n",
      "10             888  2 BHK   Possession in Jun  2021  24099/sq.ft.   \n",
      "11            1061  3 BHK   Possession in Jun  2021  23845/sq.ft.   \n",
      "12             715  2 BHK   Possession in Dec  2023                 \n",
      "13      865 - 1005  3 BHK   Possession in May  2020  27000/sq.ft.   \n",
      "14            1731  4 BHK             Ready To Move                 \n",
      "15       457 - 529  1 BHK   Possession in Mar  2024  31729/sq.ft.   \n",
      "16          887.81  3 BHK   Possession in Dec  2020                 \n",
      "17             885  2 BHK             Ready To Move   6779/sq.ft.   \n",
      "18  638.3 - 695.89  2 BHK   Possession in Dec  2020                 \n",
      "19          467.04  1 BHK   Possession in Dec  2020                 \n",
      "20             606  2 BHK                New Launch                 \n",
      "21             596  1 BHK             Ready To Move   9899/sq.ft.   \n",
      "22            1200  2 BHK             Ready To Move  18416/sq.ft.   \n",
      "23            1000  2 BHK             Ready To Move  16500/sq.ft.   \n",
      "24            1900  3 BHK             Ready To Move  14210/sq.ft.   \n",
      "25            1080  3 BHK   Possession in Dec  2024  12963/sq.ft.   \n",
      "26            1250  3 BHK             Ready To Move  36000/sq.ft.   \n",
      "27            1200  2 BHK   Possession in Oct  2020  10416/sq.ft.   \n",
      "28       511 - 570  2 BHK                New Launch  22896/sq.ft.   \n",
      "29            1290  2 BHK   Possession in Nov  2019  15116/sq.ft.   \n",
      "\n",
      "                 BATH_BAL               PIRICE                     DATE  \\\n",
      "0                  1 Bath                ₹61 L   Posted on Sep 03, 2019   \n",
      "1      2 Baths, 1 Balcony             ₹1.35 Cr   Posted on Sep 27, 2019   \n",
      "2                  1 Bath             ₹69.99 L   Posted on Sep 30, 2019   \n",
      "3    2 Baths, 2 Balconies                ₹62 L   Posted on Sep 30, 2019   \n",
      "4                 2 Baths   ₹2.12 Cr - 2.99 Cr   Posted on Sep 30, 2019   \n",
      "5                                     ₹1.22 Cr   Posted on Sep 30, 2019   \n",
      "6                 2 Baths                ₹90 L   Posted on Sep 30, 2019   \n",
      "7                 3 Baths              ₹1.3 Cr   Posted on Oct 01, 2019   \n",
      "8    2 Baths, 2 Balconies             ₹1.46 Cr   Posted on Oct 02, 2019   \n",
      "9                 3 Baths     Price on Request   Posted on Sep 27, 2019   \n",
      "10                                    ₹2.14 Cr   Posted on Sep 24, 2019   \n",
      "11                3 Baths             ₹2.53 Cr   Posted on Sep 24, 2019   \n",
      "12                2 Baths                ₹85 L   Posted on Oct 01, 2019   \n",
      "13                3 Baths   ₹2.34 Cr - 2.71 Cr   Posted on Sep 09, 2019   \n",
      "14                4 Baths             ₹9.89 Cr   Posted on Sep 18, 2019   \n",
      "15                 1 Bath   ₹1.45 Cr - 1.68 Cr   Posted on Sep 30, 2019   \n",
      "16                3 Baths             ₹3.24 Cr   Posted on Sep 30, 2019   \n",
      "17     2 Baths, 1 Balcony                ₹60 L   Posted on Oct 02, 2019   \n",
      "18                2 Baths     ₹2.16 Cr Onwards   Posted on Sep 30, 2019   \n",
      "19                 1 Bath             ₹1.58 Cr   Posted on Sep 30, 2019   \n",
      "20                2 Baths     Price on Request   Posted on Sep 27, 2019   \n",
      "21     2 Baths, 1 Balcony                ₹59 L   Posted on Sep 30, 2019   \n",
      "22  2 Baths, 3+ Balconies             ₹2.21 Cr  Posted on Sep 16, 2019.   \n",
      "23                2 Baths             ₹1.65 Cr   Posted on Sep 17, 2019   \n",
      "24     3 Baths, 1 Balcony              ₹2.7 Cr   Posted on Jul 23, 2019   \n",
      "25                                     ₹1.4 Cr   Posted on Sep 03, 2019   \n",
      "26                3 Baths              ₹4.5 Cr   Posted on Aug 23, 2019   \n",
      "27     2 Baths, 1 Balcony             ₹1.25 Cr   Posted on Oct 01, 2019   \n",
      "28                          ₹1.17 Cr - 1.31 Cr   Posted on Sep 09, 2019   \n",
      "29   2 Baths, 3 Balconies             ₹1.95 Cr   Posted on Sep 30, 2019   \n",
      "\n",
      "                                        BY TYPE_POSTER  \n",
      "0                           Ruparel Realty     Builder  \n",
      "1                         Ideal Properties      Dealer  \n",
      "2                       Vardhan Developers     Builder  \n",
      "3                        individual dealer       Owner  \n",
      "4       Mahindra Lifespaces Developers Ltd     Builder  \n",
      "5                       Shapoorji Pallonji     Builder  \n",
      "6                        individual dealer       Owner  \n",
      "7   West Pioneer Properties India Pvt. Ltd     Builder  \n",
      "8                        individual dealer       Owner  \n",
      "9                Godrej Properties Limited     Builder  \n",
      "10                      Shapoorji Pallonji     Builder  \n",
      "11                      Shapoorji Pallonji     Builder  \n",
      "12  West Pioneer Properties India Pvt. Ltd     Builder  \n",
      "13                  Amardeep Constructions     Builder  \n",
      "14                            L & T Realty     Builder  \n",
      "15      Mahindra Lifespaces Developers Ltd     Builder  \n",
      "16                           Dhuleva Group     Builder  \n",
      "17                       individual dealer       Owner  \n",
      "18                           Dhuleva Group     Builder  \n",
      "19                           Dhuleva Group     Builder  \n",
      "20               Godrej Properties Limited     Builder  \n",
      "21                       individual dealer       Owner  \n",
      "22                       individual dealer              \n",
      "23                    Siddhi estate agency      Dealer  \n",
      "24                       Alibag Properties      Dealer  \n",
      "25                    Prajapati Developers     Builder  \n",
      "26                  Thakural Constructions     Builder  \n",
      "27                       individual dealer       Owner  \n",
      "28                     Puneet Urban Spaces     Builder  \n",
      "29                       individual dealer       Owner  \n"
     ]
    }
   ],
   "source": [
    "print(df)"
   ]
  },
  {
   "cell_type": "code",
   "execution_count": 216,
   "metadata": {},
   "outputs": [
    {
     "name": "stdout",
     "output_type": "stream",
     "text": [
      "3032\n",
      "in goregaon east\n"
     ]
    },
    {
     "data": {
      "text/plain": [
       "3032"
      ]
     },
     "execution_count": 216,
     "metadata": {},
     "output_type": "execute_result"
    }
   ],
   "source": [
    "pages = html_soup.findAll(\"a\",{\"class\":\"pgsel\"})\n",
    "print(pages[-1].text)\n",
    "last = pages[-1].text\n",
    "last=int(last)\n",
    "print(cont.table.tbody.tr.b.text)\n",
    "pages_list=[]\n",
    "for i in range(1,last+1):\n",
    "    pages_list.append(i)\n",
    "for i in pages_list:   \n",
    "    url = 'https://www.99acres.com/property-in-mumbai-ffid-page-{}'.format(i)\n",
    "#print(url)\n",
    "len(pages_list)"
   ]
  },
  {
   "cell_type": "code",
   "execution_count": null,
   "metadata": {},
   "outputs": [
    {
     "name": "stdout",
     "output_type": "stream",
     "text": [
      "1\n",
      "0\n",
      "2\n",
      "1\n",
      "3\n",
      "25\n",
      "4\n",
      "12\n",
      "5\n",
      "3\n",
      "6\n"
     ]
    }
   ],
   "source": [
    "title=[]\n",
    "sq_ft=[]\n",
    "area=[]\n",
    "bhk1=[]\n",
    "possess=[]\n",
    "per_sq=[]\n",
    "bath_bal=[]\n",
    "price=[]\n",
    "date=[]\n",
    "by1=[]\n",
    "tyee_builder1=[]\n",
    "\n",
    "\n",
    "for i in range(1,50):\n",
    "    \n",
    "    print(i)\n",
    "    url = 'https://www.99acres.com/property-in-mumbai-ffid-page-{}'.format(i)\n",
    "    driver = webdriver.Chrome(chrome_path)\n",
    "    driver.get(url)\n",
    "    pag = driver.find_element_by_tag_name(\"html\")\n",
    "    pag.send_keys(Keys.END)\n",
    "    time.sleep(5)\n",
    "    response = session.get(url, headers=my_headers)\n",
    "    html_soup = BeautifulSoup(response.text, 'html.parser')\n",
    "    conts = html_soup.body.findAll(\"div\",{\"class\":\"srpNw_tble\"})\n",
    "    print(len(conts))\n",
    "    date_by_type=html_soup.body.findAll(\"span\",{\"class\":\"srpNw_dlrNme\"})\n",
    "    for cont in conts:\n",
    "        title.append(cont.th.h2.a.span[\"title\"])\n",
    "        area.append(cont.table.tbody.tr.b.text)\n",
    "        sq = cont.findAll(\"td\",{\"class\":\"_auto_areaValue\"})\n",
    "        sq_ft.append(sq[0].b.text)\n",
    "        bhk = cont.findAll(\"td\",{\"class\":\"_auto_bedroom\"})\n",
    "        bhk1.append(bhk[0].b.text)\n",
    "        poss = cont.findAll(\"td\",{\"class\":\"_auto_possesionLabel\"})\n",
    "        possess.append(poss[0].text.strip())\n",
    "        per_sq1 = cont.findAll(\"td\",{\"class\":\"_auto_ppu_area\"})\n",
    "        per_sq.append(per_sq1[0].text)\n",
    "        bath_bal1 = cont.findAll(\"td\",{\"class\":\"_auto_bath_balc_roadText\"})\n",
    "        bath_bal.append(bath_bal1[0].text.strip())\n",
    "        price1 = cont.findAll(\"span\",{\"class\":\"srpNw_price\"})\n",
    "        price.append(price1[0].text)\n",
    "    for dbt1 in date_by_type:\n",
    "        date.append(dbt1.text.split(' by')[0])\n",
    "        try:\n",
    "            by1.append(dbt1.a.text)\n",
    "\n",
    "        # write some code \n",
    "        # that might throw exception\n",
    "        except AttributeError:\n",
    "            by1.append(\"individual dealer\")\n",
    "            # Exception handler, alert the user\n",
    "    dbr1=0\n",
    "    for dbt1 in date_by_type:\n",
    "        str1 = dbt1.text\n",
    "        if \"(Dealer)\" in str1:\n",
    "            type_builder = \"Dealer\"\n",
    "        elif \"(Builder)\" in str1:\n",
    "            type_builder = \"Builder\"\n",
    "        elif \"(Owner)\" in str1:\n",
    "            type_builder = \"Owner\"\n",
    "        else:\n",
    "            type_builder = \"\"\n",
    "        tyee_builder1.append(type_builder)\n",
    "    time.sleep(2)\n",
    "    "
   ]
  },
  {
   "cell_type": "code",
   "execution_count": null,
   "metadata": {},
   "outputs": [],
   "source": [
    "#df.drop(df.index, inplace=True)\n",
    "print(df)"
   ]
  },
  {
   "cell_type": "code",
   "execution_count": null,
   "metadata": {
    "collapsed": true
   },
   "outputs": [],
   "source": [
    "\n",
    "df['Title'] = title\n",
    "df['Area'] = area\n",
    "df['Sq_ft'] = sq_ft\n",
    "df['BHK'] = bhk1\n",
    "df['POSSESS'] = possess\n",
    "df['PER_SQ_PRICE'] = per_sq\n",
    "df['BATH_BAL'] = bath_bal\n",
    "df['PIRCE'] = price\n",
    "df['DATE'] = date\n",
    "df['BY']= by1\n",
    "df['TYPE_POSTER'] = tyee_builder1"
   ]
  },
  {
   "cell_type": "code",
   "execution_count": null,
   "metadata": {},
   "outputs": [],
   "source": [
    "title.append['dasd']\n",
    "df['Title']=\n",
    "print(df)\n"
   ]
  },
  {
   "cell_type": "code",
   "execution_count": null,
   "metadata": {
    "collapsed": true
   },
   "outputs": [],
   "source": [
    "df_copy = df\n"
   ]
  },
  {
   "cell_type": "code",
   "execution_count": 199,
   "metadata": {},
   "outputs": [
    {
     "name": "stdout",
     "output_type": "stream",
     "text": [
      "Empty DataFrame\n",
      "Columns: [Title, Area, Sq_ft, BHK, POSSESS, PER_SQ_PRICE, BATH_BAL, PIRICE, DATE, BY, TYPE_POSTER, PIRCE]\n",
      "Index: []\n"
     ]
    }
   ],
   "source": [
    "pd.concat([df1, df2])\n",
    "print(df_copy)\n"
   ]
  },
  {
   "cell_type": "code",
   "execution_count": null,
   "metadata": {
    "collapsed": true
   },
   "outputs": [],
   "source": [
    "df_copy.to_csv(\"99acers_mumbai9.csv\") "
   ]
  },
  {
   "cell_type": "code",
   "execution_count": null,
   "metadata": {
    "collapsed": true
   },
   "outputs": [],
   "source": []
  },
  {
   "cell_type": "code",
   "execution_count": null,
   "metadata": {
    "collapsed": true
   },
   "outputs": [],
   "source": []
  }
 ],
 "metadata": {
  "kernelspec": {
   "display_name": "Python 3",
   "language": "python",
   "name": "python3"
  },
  "language_info": {
   "codemirror_mode": {
    "name": "ipython",
    "version": 3
   },
   "file_extension": ".py",
   "mimetype": "text/x-python",
   "name": "python",
   "nbconvert_exporter": "python",
   "pygments_lexer": "ipython3",
   "version": "3.6.3"
  }
 },
 "nbformat": 4,
 "nbformat_minor": 2
}
